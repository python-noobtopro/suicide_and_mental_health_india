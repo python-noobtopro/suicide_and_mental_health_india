{
 "cells": [
  {
   "cell_type": "markdown",
   "id": "6ab04394",
   "metadata": {},
   "source": [
    "### To get much better understanding of the situation of Mental Health and suicides in India in the recent years I went on to research further on the Internet and got some really credible and strong data from data.gov.in and NCRB\n",
    "https://data.gov.in/catalog/accidental-deaths-suicides-india-adsi-2020?filters%5Bfield_catalog_reference%5D=6903916&format=json&offset=0&limit=6&sort%5Bcreated%5D=desc\n",
    "    \n",
    "https://ncrb.gov.in/en/accidental-deaths-suicides-india-adsi"
   ]
  },
  {
   "cell_type": "markdown",
   "id": "eca4634a",
   "metadata": {},
   "source": [
    "##### But, again since the data is not very friendly for analysis we had to do a lot of cleaning to go further"
   ]
  },
  {
   "cell_type": "code",
   "execution_count": 8,
   "id": "91ef6232",
   "metadata": {},
   "outputs": [],
   "source": [
    "import pandas as pd"
   ]
  },
  {
   "cell_type": "markdown",
   "id": "9b143c26",
   "metadata": {},
   "source": [
    "#### Starting with Data from NCRB (ADSI) of statewise distribution of suicide in India in the Year 2018, 2019, 2020"
   ]
  },
  {
   "cell_type": "code",
   "execution_count": 9,
   "id": "26cb67ee",
   "metadata": {},
   "outputs": [],
   "source": [
    "state18 = pd.read_csv('./2018 ncrb/2018 state.csv')\n",
    "state19 = pd.read_csv('./2019 ncrb/2019 state.csv')\n",
    "state20 = pd.read_csv('./2020 ncrb/2020 state.csv')"
   ]
  },
  {
   "cell_type": "markdown",
   "id": "791f32ad",
   "metadata": {},
   "source": [
    "#### Our motive here is to first merge the data in a single dataframe"
   ]
  },
  {
   "cell_type": "code",
   "execution_count": 10,
   "id": "53a2c69a",
   "metadata": {},
   "outputs": [
    {
     "data": {
      "text/html": [
       "<div>\n",
       "<style scoped>\n",
       "    .dataframe tbody tr th:only-of-type {\n",
       "        vertical-align: middle;\n",
       "    }\n",
       "\n",
       "    .dataframe tbody tr th {\n",
       "        vertical-align: top;\n",
       "    }\n",
       "\n",
       "    .dataframe thead th {\n",
       "        text-align: right;\n",
       "    }\n",
       "</style>\n",
       "<table border=\"1\" class=\"dataframe\">\n",
       "  <thead>\n",
       "    <tr style=\"text-align: right;\">\n",
       "      <th></th>\n",
       "      <th>Unnamed: 0</th>\n",
       "      <th>Category (Col. 1)</th>\n",
       "      <th>State/UT/City (Col. 2)</th>\n",
       "      <th>Number of Suicides (Col.3)</th>\n",
       "      <th>Percentage Share in Total Suicides (Col. 4)</th>\n",
       "      <th>FALSE</th>\n",
       "      <th>Rate of Suicides (Col. 6 = Col.3/Col.5)</th>\n",
       "    </tr>\n",
       "  </thead>\n",
       "  <tbody>\n",
       "    <tr>\n",
       "      <th>0</th>\n",
       "      <td>0</td>\n",
       "      <td>State</td>\n",
       "      <td>ANDHRA PRADESH</td>\n",
       "      <td>6465</td>\n",
       "      <td>4.6</td>\n",
       "      <td>523.2</td>\n",
       "      <td>12.4</td>\n",
       "    </tr>\n",
       "    <tr>\n",
       "      <th>1</th>\n",
       "      <td>1</td>\n",
       "      <td>State</td>\n",
       "      <td>ARUNACHAL PRADESH</td>\n",
       "      <td>112</td>\n",
       "      <td>0.1</td>\n",
       "      <td>15.1</td>\n",
       "      <td>7.4</td>\n",
       "    </tr>\n",
       "    <tr>\n",
       "      <th>2</th>\n",
       "      <td>2</td>\n",
       "      <td>State</td>\n",
       "      <td>ASSAM</td>\n",
       "      <td>2370</td>\n",
       "      <td>1.7</td>\n",
       "      <td>344.2</td>\n",
       "      <td>6.9</td>\n",
       "    </tr>\n",
       "    <tr>\n",
       "      <th>3</th>\n",
       "      <td>3</td>\n",
       "      <td>State</td>\n",
       "      <td>BIHAR</td>\n",
       "      <td>641</td>\n",
       "      <td>0.5</td>\n",
       "      <td>1201.1</td>\n",
       "      <td>0.5</td>\n",
       "    </tr>\n",
       "    <tr>\n",
       "      <th>4</th>\n",
       "      <td>4</td>\n",
       "      <td>State</td>\n",
       "      <td>CHHATTISGARH</td>\n",
       "      <td>7629</td>\n",
       "      <td>5.5</td>\n",
       "      <td>288.5</td>\n",
       "      <td>26.4</td>\n",
       "    </tr>\n",
       "  </tbody>\n",
       "</table>\n",
       "</div>"
      ],
      "text/plain": [
       "   Unnamed: 0 Category (Col. 1) State/UT/City (Col. 2)  \\\n",
       "0           0             State         ANDHRA PRADESH   \n",
       "1           1             State      ARUNACHAL PRADESH   \n",
       "2           2             State                  ASSAM   \n",
       "3           3             State                  BIHAR   \n",
       "4           4             State           CHHATTISGARH   \n",
       "\n",
       "   Number of Suicides (Col.3)  Percentage Share in Total Suicides (Col. 4)  \\\n",
       "0                        6465                                          4.6   \n",
       "1                         112                                          0.1   \n",
       "2                        2370                                          1.7   \n",
       "3                         641                                          0.5   \n",
       "4                        7629                                          5.5   \n",
       "\n",
       "    FALSE  Rate of Suicides (Col. 6 = Col.3/Col.5)  \n",
       "0   523.2                                     12.4  \n",
       "1    15.1                                      7.4  \n",
       "2   344.2                                      6.9  \n",
       "3  1201.1                                      0.5  \n",
       "4   288.5                                     26.4  "
      ]
     },
     "execution_count": 10,
     "metadata": {},
     "output_type": "execute_result"
    }
   ],
   "source": [
    "state19.head()"
   ]
  },
  {
   "cell_type": "markdown",
   "id": "4b91b31e",
   "metadata": {},
   "source": [
    "#### In all other dataset except in the year 2019 we have state name in title case. So, changing it to title case."
   ]
  },
  {
   "cell_type": "code",
   "execution_count": 11,
   "id": "412ec213",
   "metadata": {},
   "outputs": [],
   "source": [
    "state19['State/UT/City (Col. 2)'] = state19['State/UT/City (Col. 2)'].str.title()"
   ]
  },
  {
   "cell_type": "code",
   "execution_count": 12,
   "id": "1d353532",
   "metadata": {},
   "outputs": [
    {
     "data": {
      "text/html": [
       "<div>\n",
       "<style scoped>\n",
       "    .dataframe tbody tr th:only-of-type {\n",
       "        vertical-align: middle;\n",
       "    }\n",
       "\n",
       "    .dataframe tbody tr th {\n",
       "        vertical-align: top;\n",
       "    }\n",
       "\n",
       "    .dataframe thead th {\n",
       "        text-align: right;\n",
       "    }\n",
       "</style>\n",
       "<table border=\"1\" class=\"dataframe\">\n",
       "  <thead>\n",
       "    <tr style=\"text-align: right;\">\n",
       "      <th></th>\n",
       "      <th>Unnamed: 0</th>\n",
       "      <th>Category (Col. 1)</th>\n",
       "      <th>State/UT/City (Col. 2)</th>\n",
       "      <th>Number of Suicides (Col.3)</th>\n",
       "      <th>Percentage Share in Total Suicides (Col. 4)</th>\n",
       "      <th>FALSE</th>\n",
       "      <th>Rate of Suicides (Col. 6 = Col.3/Col.5)</th>\n",
       "    </tr>\n",
       "  </thead>\n",
       "  <tbody>\n",
       "    <tr>\n",
       "      <th>0</th>\n",
       "      <td>0</td>\n",
       "      <td>State</td>\n",
       "      <td>Andhra Pradesh</td>\n",
       "      <td>6465</td>\n",
       "      <td>4.6</td>\n",
       "      <td>523.2</td>\n",
       "      <td>12.4</td>\n",
       "    </tr>\n",
       "    <tr>\n",
       "      <th>1</th>\n",
       "      <td>1</td>\n",
       "      <td>State</td>\n",
       "      <td>Arunachal Pradesh</td>\n",
       "      <td>112</td>\n",
       "      <td>0.1</td>\n",
       "      <td>15.1</td>\n",
       "      <td>7.4</td>\n",
       "    </tr>\n",
       "  </tbody>\n",
       "</table>\n",
       "</div>"
      ],
      "text/plain": [
       "   Unnamed: 0 Category (Col. 1) State/UT/City (Col. 2)  \\\n",
       "0           0             State         Andhra Pradesh   \n",
       "1           1             State      Arunachal Pradesh   \n",
       "\n",
       "   Number of Suicides (Col.3)  Percentage Share in Total Suicides (Col. 4)  \\\n",
       "0                        6465                                          4.6   \n",
       "1                         112                                          0.1   \n",
       "\n",
       "   FALSE  Rate of Suicides (Col. 6 = Col.3/Col.5)  \n",
       "0  523.2                                     12.4  \n",
       "1   15.1                                      7.4  "
      ]
     },
     "execution_count": 12,
     "metadata": {},
     "output_type": "execute_result"
    }
   ],
   "source": [
    "state19.head(2)"
   ]
  },
  {
   "cell_type": "markdown",
   "id": "2e9c076e",
   "metadata": {},
   "source": [
    "##### Merging the dataframes"
   ]
  },
  {
   "cell_type": "code",
   "execution_count": 13,
   "id": "3ab66fcb",
   "metadata": {},
   "outputs": [],
   "source": [
    "df = pd.merge(state18, state19, how='left', left_on=['State/UT - (Col.3)'], right_on=['State/UT/City (Col. 2)'])"
   ]
  },
  {
   "cell_type": "code",
   "execution_count": 14,
   "id": "21470f98",
   "metadata": {},
   "outputs": [
    {
     "data": {
      "text/html": [
       "<div>\n",
       "<style scoped>\n",
       "    .dataframe tbody tr th:only-of-type {\n",
       "        vertical-align: middle;\n",
       "    }\n",
       "\n",
       "    .dataframe tbody tr th {\n",
       "        vertical-align: top;\n",
       "    }\n",
       "\n",
       "    .dataframe thead th {\n",
       "        text-align: right;\n",
       "    }\n",
       "</style>\n",
       "<table border=\"1\" class=\"dataframe\">\n",
       "  <thead>\n",
       "    <tr style=\"text-align: right;\">\n",
       "      <th></th>\n",
       "      <th>Si. No. (Col.1)</th>\n",
       "      <th>Category</th>\n",
       "      <th>State/UT/ (Col.2)</th>\n",
       "      <th>Number of Suicides(Col.3)</th>\n",
       "      <th>Percentage Share in Total Suicides (Col.4)</th>\n",
       "      <th>Projected Mid-Year Population # (in Lakh)\\n (in Lakh)\\n(Col.5)</th>\n",
       "      <th>Rate of Suicides (Col.3/Col.5)</th>\n",
       "    </tr>\n",
       "  </thead>\n",
       "  <tbody>\n",
       "    <tr>\n",
       "      <th>0</th>\n",
       "      <td>1</td>\n",
       "      <td>State</td>\n",
       "      <td>Andhra Pradesh</td>\n",
       "      <td>7043</td>\n",
       "      <td>4.6</td>\n",
       "      <td>526.0</td>\n",
       "      <td>13.4</td>\n",
       "    </tr>\n",
       "    <tr>\n",
       "      <th>1</th>\n",
       "      <td>2</td>\n",
       "      <td>State</td>\n",
       "      <td>Arunachal Pradesh</td>\n",
       "      <td>160</td>\n",
       "      <td>0.1</td>\n",
       "      <td>15.2</td>\n",
       "      <td>10.5</td>\n",
       "    </tr>\n",
       "  </tbody>\n",
       "</table>\n",
       "</div>"
      ],
      "text/plain": [
       "  Si. No. (Col.1) Category  State/UT/ (Col.2)  Number of Suicides(Col.3)  \\\n",
       "0               1    State     Andhra Pradesh                       7043   \n",
       "1               2    State  Arunachal Pradesh                        160   \n",
       "\n",
       "   Percentage Share in Total Suicides (Col.4)  \\\n",
       "0                                         4.6   \n",
       "1                                         0.1   \n",
       "\n",
       "   Projected Mid-Year Population # (in Lakh)\\n (in Lakh)\\n(Col.5)  \\\n",
       "0                                              526.0                \n",
       "1                                               15.2                \n",
       "\n",
       "   Rate of Suicides (Col.3/Col.5)  \n",
       "0                            13.4  \n",
       "1                            10.5  "
      ]
     },
     "execution_count": 14,
     "metadata": {},
     "output_type": "execute_result"
    }
   ],
   "source": [
    "state20.head(2)"
   ]
  },
  {
   "cell_type": "code",
   "execution_count": 15,
   "id": "fc3e43d0",
   "metadata": {},
   "outputs": [],
   "source": [
    "dffinal = pd.merge(df, state20, how='left', left_on=['State/UT/City (Col. 2)'], right_on=['State/UT/ (Col.2)'])"
   ]
  },
  {
   "cell_type": "code",
   "execution_count": null,
   "id": "1dc6f393",
   "metadata": {},
   "outputs": [],
   "source": [
    "## Dropping duplicate columns"
   ]
  },
  {
   "cell_type": "code",
   "execution_count": 16,
   "id": "4cc9c443",
   "metadata": {},
   "outputs": [],
   "source": [
    "dffinal.drop(columns=['Unnamed: 0', 'Category (Col. 1)', 'State/UT/City (Col. 2)', 'Si. No. (Col.1)', 'Category', 'State/UT/ (Col.2)'], inplace=True)"
   ]
  },
  {
   "cell_type": "code",
   "execution_count": 18,
   "id": "723411f5",
   "metadata": {},
   "outputs": [
    {
     "data": {
      "text/html": [
       "<div>\n",
       "<style scoped>\n",
       "    .dataframe tbody tr th:only-of-type {\n",
       "        vertical-align: middle;\n",
       "    }\n",
       "\n",
       "    .dataframe tbody tr th {\n",
       "        vertical-align: top;\n",
       "    }\n",
       "\n",
       "    .dataframe thead th {\n",
       "        text-align: right;\n",
       "    }\n",
       "</style>\n",
       "<table border=\"1\" class=\"dataframe\">\n",
       "  <thead>\n",
       "    <tr style=\"text-align: right;\">\n",
       "      <th></th>\n",
       "      <th>Sl. No. - (Col.1)</th>\n",
       "      <th>Category - (Col.2)</th>\n",
       "      <th>State/UT - (Col.3)</th>\n",
       "      <th>Number of Suicides - (Col.4)</th>\n",
       "      <th>Percentage Share in Total Suicides - (Col.5)</th>\n",
       "      <th>Projected Mid-Year Population # (in Lakh) - (Col.6)</th>\n",
       "      <th>Rate of Suicides - (Col.7 = Col.4/Col.6)</th>\n",
       "      <th>Number of Suicides (Col.3)</th>\n",
       "      <th>Percentage Share in Total Suicides (Col. 4)</th>\n",
       "      <th>FALSE</th>\n",
       "      <th>Rate of Suicides (Col. 6 = Col.3/Col.5)</th>\n",
       "      <th>Number of Suicides(Col.3)</th>\n",
       "      <th>Percentage Share in Total Suicides (Col.4)</th>\n",
       "      <th>Projected Mid-Year Population # (in Lakh)\\n (in Lakh)\\n(Col.5)</th>\n",
       "      <th>Rate of Suicides (Col.3/Col.5)</th>\n",
       "    </tr>\n",
       "  </thead>\n",
       "  <tbody>\n",
       "    <tr>\n",
       "      <th>0</th>\n",
       "      <td>1</td>\n",
       "      <td>State</td>\n",
       "      <td>Andhra Pradesh</td>\n",
       "      <td>5319</td>\n",
       "      <td>4.0</td>\n",
       "      <td>520.3</td>\n",
       "      <td>10.2</td>\n",
       "      <td>6465.0</td>\n",
       "      <td>4.6</td>\n",
       "      <td>523.2</td>\n",
       "      <td>12.4</td>\n",
       "      <td>7043.0</td>\n",
       "      <td>4.6</td>\n",
       "      <td>526.0</td>\n",
       "      <td>13.4</td>\n",
       "    </tr>\n",
       "    <tr>\n",
       "      <th>1</th>\n",
       "      <td>2</td>\n",
       "      <td>State</td>\n",
       "      <td>Arunachal Pradesh</td>\n",
       "      <td>132</td>\n",
       "      <td>0.1</td>\n",
       "      <td>14.9</td>\n",
       "      <td>8.9</td>\n",
       "      <td>112.0</td>\n",
       "      <td>0.1</td>\n",
       "      <td>15.1</td>\n",
       "      <td>7.4</td>\n",
       "      <td>160.0</td>\n",
       "      <td>0.1</td>\n",
       "      <td>15.2</td>\n",
       "      <td>10.5</td>\n",
       "    </tr>\n",
       "    <tr>\n",
       "      <th>2</th>\n",
       "      <td>3</td>\n",
       "      <td>State</td>\n",
       "      <td>Assam</td>\n",
       "      <td>2379</td>\n",
       "      <td>1.8</td>\n",
       "      <td>340.4</td>\n",
       "      <td>7.0</td>\n",
       "      <td>2370.0</td>\n",
       "      <td>1.7</td>\n",
       "      <td>344.2</td>\n",
       "      <td>6.9</td>\n",
       "      <td>3243.0</td>\n",
       "      <td>2.1</td>\n",
       "      <td>347.9</td>\n",
       "      <td>9.3</td>\n",
       "    </tr>\n",
       "  </tbody>\n",
       "</table>\n",
       "</div>"
      ],
      "text/plain": [
       "  Sl. No. - (Col.1) Category - (Col.2) State/UT - (Col.3)  \\\n",
       "0                 1              State     Andhra Pradesh   \n",
       "1                 2              State  Arunachal Pradesh   \n",
       "2                 3              State              Assam   \n",
       "\n",
       "   Number of Suicides - (Col.4)  Percentage Share in Total Suicides - (Col.5)  \\\n",
       "0                          5319                                           4.0   \n",
       "1                           132                                           0.1   \n",
       "2                          2379                                           1.8   \n",
       "\n",
       "   Projected Mid-Year Population # (in Lakh) - (Col.6)  \\\n",
       "0                                              520.3     \n",
       "1                                               14.9     \n",
       "2                                              340.4     \n",
       "\n",
       "   Rate of Suicides - (Col.7 = Col.4/Col.6)  Number of Suicides (Col.3)  \\\n",
       "0                                      10.2                      6465.0   \n",
       "1                                       8.9                       112.0   \n",
       "2                                       7.0                      2370.0   \n",
       "\n",
       "   Percentage Share in Total Suicides (Col. 4)  FALSE  \\\n",
       "0                                          4.6  523.2   \n",
       "1                                          0.1   15.1   \n",
       "2                                          1.7  344.2   \n",
       "\n",
       "   Rate of Suicides (Col. 6 = Col.3/Col.5)  Number of Suicides(Col.3)  \\\n",
       "0                                     12.4                     7043.0   \n",
       "1                                      7.4                      160.0   \n",
       "2                                      6.9                     3243.0   \n",
       "\n",
       "   Percentage Share in Total Suicides (Col.4)  \\\n",
       "0                                         4.6   \n",
       "1                                         0.1   \n",
       "2                                         2.1   \n",
       "\n",
       "   Projected Mid-Year Population # (in Lakh)\\n (in Lakh)\\n(Col.5)  \\\n",
       "0                                              526.0                \n",
       "1                                               15.2                \n",
       "2                                              347.9                \n",
       "\n",
       "   Rate of Suicides (Col.3/Col.5)  \n",
       "0                            13.4  \n",
       "1                            10.5  \n",
       "2                             9.3  "
      ]
     },
     "execution_count": 18,
     "metadata": {},
     "output_type": "execute_result"
    }
   ],
   "source": [
    "dffinal.head(3)"
   ]
  },
  {
   "cell_type": "markdown",
   "id": "92a615d5",
   "metadata": {},
   "source": [
    "##### Saving the data"
   ]
  },
  {
   "cell_type": "code",
   "execution_count": 79,
   "id": "37b3f28c",
   "metadata": {},
   "outputs": [],
   "source": [
    "# dffinal.to_csv('finalmergetomanual.csv')"
   ]
  },
  {
   "cell_type": "markdown",
   "id": "518803d3",
   "metadata": {},
   "source": [
    "##### The data still has some NaN values and we need to look into it manually and fill it by hand to make the data as accurate as possible. So, after this step we went bacl to Excel sheets to find for all the null values in the merged dataframe."
   ]
  }
 ],
 "metadata": {
  "kernelspec": {
   "display_name": "Python 3 (ipykernel)",
   "language": "python",
   "name": "python3"
  },
  "language_info": {
   "codemirror_mode": {
    "name": "ipython",
    "version": 3
   },
   "file_extension": ".py",
   "mimetype": "text/x-python",
   "name": "python",
   "nbconvert_exporter": "python",
   "pygments_lexer": "ipython3",
   "version": "3.10.1"
  }
 },
 "nbformat": 4,
 "nbformat_minor": 5
}
